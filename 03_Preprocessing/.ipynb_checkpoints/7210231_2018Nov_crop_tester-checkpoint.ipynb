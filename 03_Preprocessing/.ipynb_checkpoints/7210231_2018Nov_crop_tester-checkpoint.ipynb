{
 "cells": [
  {
   "cell_type": "markdown",
   "metadata": {},
   "source": [
    "### Batch_Crop\n",
    "* 한림대학교 딥러닝이해및응용(7210231) 과목 자료입니다\n",
    "* Hallym Univ. \n",
    "* Deeplearning\n",
    "* 2018/11/20"
   ]
  },
  {
   "cell_type": "code",
   "execution_count": 1,
   "metadata": {},
   "outputs": [],
   "source": [
    "import matplotlib.pyplot as plt\n",
    "%matplotlib inline\n",
    "from dd_nnutil_hallym_batchcrop import *"
   ]
  },
  {
   "cell_type": "code",
   "execution_count": 2,
   "metadata": {},
   "outputs": [],
   "source": [
    "folder1 = './data'"
   ]
  },
  {
   "cell_type": "code",
   "execution_count": null,
   "metadata": {},
   "outputs": [
    {
     "name": "stdout",
     "output_type": "stream",
     "text": [
      "1\n",
      "./data\\1\\20181120_124932_HDR.jpg\n",
      "./data\\1\\20181120_124935_HDR.jpg\n",
      "./data\\1\\20181120_124940_HDR.jpg\n",
      "./data\\1\\20181120_124943_HDR.jpg\n",
      "./data\\1\\20181120_124946_HDR.jpg\n",
      "./data\\1\\20181120_124948_HDR.jpg\n",
      "./data\\1\\20181120_124950_HDR.jpg\n",
      "./data\\1\\20181120_124952_HDR.jpg\n",
      "./data\\1\\20181120_124953_HDR.jpg\n",
      "./data\\1\\20181120_124955_HDR.jpg\n",
      "./data\\1\\20181120_124958_HDR.jpg\n",
      "./data\\1\\20181120_125000_HDR.jpg\n",
      "./data\\1\\20181120_125002_HDR.jpg\n",
      "./data\\1\\20181120_125004_HDR.jpg\n",
      "./data\\1\\20181120_125006_HDR.jpg\n",
      "./data\\1\\20181120_125007.jpg\n",
      "./data\\1\\20181120_125008.jpg\n",
      "./data\\1\\20181120_125009.jpg\n",
      "./data\\1\\20181120_125010.jpg\n",
      "./data\\1\\20181120_125011.jpg\n",
      "./data\\1\\20181120_125012.jpg\n",
      "./data\\1\\20181120_125013.jpg\n",
      "./data\\1\\20181120_125014(1).jpg\n",
      "./data\\1\\20181120_125014.jpg\n",
      "./data\\1\\20181120_125015.jpg\n",
      "./data\\1\\20181120_125016.jpg\n",
      "./data\\1\\20181120_125017.jpg\n",
      "./data\\1\\20181120_125018(1).jpg\n",
      "./data\\1\\20181120_125018.jpg\n",
      "./data\\1\\20181120_125019.jpg\n",
      "./data\\1\\20181120_125020.jpg\n",
      "./data\\1\\20181120_125021.jpg\n",
      "./data\\1\\20181120_125022(1).jpg\n",
      "./data\\1\\20181120_125022.jpg\n",
      "./data\\1\\20181120_125023.jpg\n",
      "./data\\1\\20181120_125024.jpg\n",
      "./data\\1\\20181120_125025.jpg\n",
      "./data\\1\\20181120_125026.jpg\n",
      "./data\\1\\20181120_125027.jpg\n",
      "./data\\1\\20181120_125028.jpg\n",
      "./data\\1\\20181120_125029.jpg\n",
      "./data\\1\\20181120_125030.jpg\n",
      "./data\\1\\20181120_125031.jpg\n",
      "./data\\1\\20181120_125032.jpg\n",
      "./data\\1\\20181120_125033.jpg\n",
      "./data\\1\\20181120_125034.jpg\n",
      "./data\\1\\20181120_125035.jpg\n",
      "./data\\1\\20181120_125036.jpg\n",
      "./data\\1\\20181120_125037.jpg\n",
      "./data\\1\\20181120_125038.jpg\n",
      "./data\\1\\20181120_125106_HDR.jpg\n",
      "./data\\1\\20181120_125110_HDR.jpg\n",
      "./data\\1\\20181120_125112_HDR.jpg\n",
      "./data\\1\\20181120_125114.jpg\n",
      "./data\\1\\20181120_125114_HDR.jpg\n",
      "./data\\1\\20181120_125115.jpg\n",
      "./data\\1\\20181120_125118_HDR.jpg\n",
      "./data\\1\\20181120_125120_HDR.jpg\n",
      "./data\\1\\20181120_125122_HDR.jpg\n",
      "./data\\1\\20181120_125124_HDR.jpg\n",
      "./data\\1\\20181120_125126_HDR.jpg\n",
      "./data\\1\\20181120_125128_HDR.jpg\n",
      "./data\\1\\20181120_125130_HDR.jpg\n",
      "./data\\1\\20181120_125132_HDR.jpg\n",
      "./data\\1\\20181120_125133.jpg\n"
     ]
    }
   ],
   "source": [
    "batch_crop(folder1, to_rotate  = False, resize_ratio = 0.17)"
   ]
  },
  {
   "cell_type": "code",
   "execution_count": null,
   "metadata": {},
   "outputs": [],
   "source": [
    "idx = 12\n",
    "image_class = 1\n",
    "for i in range( 0, 100, 5):\n",
    "    fig, ax = plt.subplots(figsize=(20, 10), dpi=80)\n",
    "    img, img_crop = load_image_compare(folder1, image_class, idx =i)\n",
    "    plt.subplot(1,2,1)\n",
    "    plt.imshow(img)\n",
    "    plt.subplot(1,2,2)\n",
    "    plt.imshow(img_crop)\n"
   ]
  },
  {
   "cell_type": "code",
   "execution_count": null,
   "metadata": {},
   "outputs": [],
   "source": [
    "idx = 12\n",
    "image_class = 1\n",
    "fig, ax = plt.subplots(dpi=80)\n",
    "img, img_crop = load_image_compare(folder1, image_class, idx =idx)\n",
    "plt.subplot(1,2,1)\n",
    "plt.imshow(img)\n",
    "plt.subplot(1,2,2)\n",
    "plt.imshow(img_crop)\n"
   ]
  },
  {
   "cell_type": "code",
   "execution_count": null,
   "metadata": {},
   "outputs": [],
   "source": []
  },
  {
   "cell_type": "code",
   "execution_count": null,
   "metadata": {},
   "outputs": [],
   "source": []
  }
 ],
 "metadata": {
  "kernelspec": {
   "display_name": "Python 3",
   "language": "python",
   "name": "python3"
  },
  "language_info": {
   "codemirror_mode": {
    "name": "ipython",
    "version": 3
   },
   "file_extension": ".py",
   "mimetype": "text/x-python",
   "name": "python",
   "nbconvert_exporter": "python",
   "pygments_lexer": "ipython3",
   "version": "3.6.6"
  }
 },
 "nbformat": 4,
 "nbformat_minor": 2
}
