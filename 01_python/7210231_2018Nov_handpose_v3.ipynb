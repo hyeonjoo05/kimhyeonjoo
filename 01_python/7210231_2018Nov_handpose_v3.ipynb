{
 "cells": [
  {
   "cell_type": "markdown",
   "metadata": {
    "colab_type": "text",
    "id": "0gtNgodjSBDV"
   },
   "source": [
    "### Hand pose classifier\n",
    "* 한림대학교 딥러닝이해및응용(7210231) 과목 자료입니다\n",
    "* Hallym Univ. \n",
    "* Deeplearning\n",
    "* 2018/11/13"
   ]
  },
  {
   "cell_type": "code",
   "execution_count": 1,
   "metadata": {},
   "outputs": [],
   "source": [
    "import warnings\n",
    "warnings.filterwarnings('ignore')"
   ]
  },
  {
   "cell_type": "code",
   "execution_count": 2,
   "metadata": {
    "colab": {
     "autoexec": {
      "startup": false,
      "wait_interval": 0
     }
    },
    "colab_type": "code",
    "id": "reKURDoASBDW"
   },
   "outputs": [],
   "source": [
    "import numpy as np\n",
    "import matplotlib.pyplot as plt\n",
    "%matplotlib inline\n",
    "import tensorflow as tf\n",
    "from tensorflow.python.framework import ops\n",
    "from dd_nnutil_hallym3 import *\n",
    "import random\n",
    "import time"
   ]
  },
  {
   "cell_type": "markdown",
   "metadata": {},
   "source": [
    "결과 저장을 위한 폴더 생성"
   ]
  },
  {
   "cell_type": "code",
   "execution_count": 3,
   "metadata": {},
   "outputs": [],
   "source": [
    "import os\n",
    "directory_out = 'out'\n",
    "if not os.path.exists(directory_out):\n",
    "    os.makedirs(directory_out)"
   ]
  },
  {
   "cell_type": "markdown",
   "metadata": {
    "colab_type": "text",
    "id": "2s6Vub8VST5y"
   },
   "source": [
    "### Dataset 업로드 확인"
   ]
  },
  {
   "cell_type": "code",
   "execution_count": 4,
   "metadata": {},
   "outputs": [
    {
     "name": "stdout",
     "output_type": "stream",
     "text": [
      "01-HelloPython_course.ipynb           \u001b[31mTF04_1_MNIST_Softmax.ipynb\u001b[m\u001b[m\n",
      "02-HelloPython-function_course.ipynb  \u001b[31mTF04_2_MNIST_NN.ipynb\u001b[m\u001b[m\n",
      "7210231_2018Nov_crop_tester.ipynb     \u001b[31mTF04_3_MNIST_ConvNet.ipynb\u001b[m\u001b[m\n",
      "\u001b[31m7210231_2018Nov_handpose_v3.ipynb\u001b[m\u001b[m     Untitled.ipynb\n",
      "\u001b[34mMNIST_data\u001b[m\u001b[m                            Untitled1.ipynb\n",
      "TF01_1_Hello_course.ipynb             \u001b[34m__pycache__\u001b[m\u001b[m\n",
      "\u001b[31mTF01_2_hello_MNIST.ipynb\u001b[m\u001b[m              \u001b[31mdd_nnutil_hallym3.py\u001b[m\u001b[m\n",
      "TF02_1_linear_regression_course.ipynb dd_nnutil_hallym_batchcrop.py\n",
      "\u001b[31mTF03_2_XOR_simplest_course.ipynb\u001b[m\u001b[m      \u001b[34mout\u001b[m\u001b[m\n",
      "\u001b[31mTF04_1_ConvNet_MNIST.ipynb\u001b[m\u001b[m\n",
      "/Users/kimhyeonjoo/710231/python\n"
     ]
    }
   ],
   "source": [
    "!ls\n",
    "!pwd"
   ]
  },
  {
   "cell_type": "code",
   "execution_count": 5,
   "metadata": {
    "colab": {
     "autoexec": {
      "startup": false,
      "wait_interval": 0
     }
    },
    "colab_type": "code",
    "id": "fTXsfnjrenY3"
   },
   "outputs": [],
   "source": [
    "folder1 =\"./handpose_small\""
   ]
  },
  {
   "cell_type": "code",
   "execution_count": 6,
   "metadata": {
    "colab": {
     "autoexec": {
      "startup": false,
      "wait_interval": 0
     },
     "base_uri": "https://localhost:8080/",
     "height": 35
    },
    "colab_type": "code",
    "executionInfo": {
     "elapsed": 528,
     "status": "ok",
     "timestamp": 1529480614957,
     "user": {
      "displayName": "Seung-Chan Kim",
      "photoUrl": "//lh6.googleusercontent.com/-GfSlgMh8OAM/AAAAAAAAAAI/AAAAAAAAAU8/pF51x30wES8/s50-c-k-no/photo.jpg",
      "userId": "103475295474044689411"
     },
     "user_tz": -540
    },
    "id": "zXEutyxTSYUk",
    "outputId": "a071ce8f-e9a6-4476-e35b-009a4e48d349"
   },
   "outputs": [
    {
     "ename": "FileNotFoundError",
     "evalue": "[Errno 2] No such file or directory: './handpose_small'",
     "output_type": "error",
     "traceback": [
      "\u001b[0;31m---------------------------------------------------------------------------\u001b[0m",
      "\u001b[0;31mFileNotFoundError\u001b[0m                         Traceback (most recent call last)",
      "\u001b[0;32m<ipython-input-6-b219328dd35b>\u001b[0m in \u001b[0;36m<module>\u001b[0;34m()\u001b[0m\n\u001b[1;32m      1\u001b[0m \u001b[0;32mimport\u001b[0m \u001b[0mos\u001b[0m\u001b[0;34m\u001b[0m\u001b[0m\n\u001b[0;32m----> 2\u001b[0;31m \u001b[0msorted\u001b[0m\u001b[0;34m(\u001b[0m\u001b[0mos\u001b[0m\u001b[0;34m.\u001b[0m\u001b[0mlistdir\u001b[0m\u001b[0;34m(\u001b[0m\u001b[0mfolder1\u001b[0m\u001b[0;34m)\u001b[0m\u001b[0;34m)\u001b[0m\u001b[0;34m\u001b[0m\u001b[0m\n\u001b[0m",
      "\u001b[0;31mFileNotFoundError\u001b[0m: [Errno 2] No such file or directory: './handpose_small'"
     ]
    }
   ],
   "source": [
    "import os\n",
    "sorted(os.listdir(folder1))"
   ]
  },
  {
   "cell_type": "markdown",
   "metadata": {
    "colab_type": "text",
    "id": "JT3F_TGXSgDB"
   },
   "source": [
    "예상되는 출력:\n",
    "\n",
    "---\n",
    "['0_small', '1_small', '2_small', '3_small', '4_small', '5_small']\n",
    "\n",
    "or\n",
    "\n",
    "['0', '1', '2', '3', '4', '5']\n",
    "\n",
    "---\n",
    "\n",
    "위와 다르게 출력이 된다면 애초에 상위 폴더이름이 handpose_small 인지 확인해보세요. \n"
   ]
  },
  {
   "cell_type": "markdown",
   "metadata": {
    "colab_type": "text",
    "id": "eoEl21qvSBDk"
   },
   "source": [
    "### Data 검토해보기"
   ]
  },
  {
   "cell_type": "markdown",
   "metadata": {
    "colab_type": "text",
    "id": "tGBago6SSBDg"
   },
   "source": [
    "Data의 종류. 현재는 6가지의 data를 사용하므로 6을 사용합니다."
   ]
  },
  {
   "cell_type": "code",
   "execution_count": null,
   "metadata": {
    "colab": {
     "autoexec": {
      "startup": false,
      "wait_interval": 0
     }
    },
    "colab_type": "code",
    "id": "Kw_w7AHmSBDh"
   },
   "outputs": [],
   "source": [
    "nclasses = 6"
   ]
  },
  {
   "cell_type": "markdown",
   "metadata": {
    "colab_type": "text",
    "id": "151iWlboUfpF"
   },
   "source": [
    "그려볼 이미지 index. 아래의 숫자를 바꾸어 가며 아래 cell에 그림이 제대로 표시가 되는지 확인해보세요.\n",
    "**최종적으로는 직접 생성한 이미지가 display되도록 idx를 설정하세요**"
   ]
  },
  {
   "cell_type": "code",
   "execution_count": null,
   "metadata": {
    "colab": {
     "autoexec": {
      "startup": false,
      "wait_interval": 0
     }
    },
    "colab_type": "code",
    "id": "Wz8bm7mYSBDk"
   },
   "outputs": [],
   "source": [
    "idx= 10"
   ]
  },
  {
   "cell_type": "code",
   "execution_count": null,
   "metadata": {
    "colab": {
     "autoexec": {
      "startup": false,
      "wait_interval": 0
     },
     "base_uri": "https://localhost:8080/",
     "height": 370
    },
    "colab_type": "code",
    "executionInfo": {
     "elapsed": 1568,
     "status": "ok",
     "timestamp": 1529480617868,
     "user": {
      "displayName": "Seung-Chan Kim",
      "photoUrl": "//lh6.googleusercontent.com/-GfSlgMh8OAM/AAAAAAAAAAI/AAAAAAAAAU8/pF51x30wES8/s50-c-k-no/photo.jpg",
      "userId": "103475295474044689411"
     },
     "user_tz": -540
    },
    "id": "XWcThQpCSBDo",
    "outputId": "1c4802bc-e353-4867-d275-41a8f78fa893",
    "scrolled": true
   },
   "outputs": [],
   "source": [
    "fig, ax = plt.subplots(figsize=(20, 10), dpi=80)\n",
    "for i in range(nclasses):\n",
    "    img1, ntot = load_image_test(folder=folder1, img_class=i, suffix='_small', idx=idx)\n",
    "    print('class', i, '--', ntot)\n",
    "    img1c = centered_crop(img1, output_side_length=128)\n",
    "    plt.subplot(1,nclasses,i+1)\n",
    "    plt.title('Class {} - #{}'.format(i, idx))\n",
    "    plt.imshow(img1c)"
   ]
  },
  {
   "cell_type": "markdown",
   "metadata": {
    "colab_type": "text",
    "id": "cHb2OfUmSBDc"
   },
   "source": [
    "### Hyper-parameters"
   ]
  },
  {
   "cell_type": "code",
   "execution_count": null,
   "metadata": {
    "colab": {
     "autoexec": {
      "startup": false,
      "wait_interval": 0
     }
    },
    "colab_type": "code",
    "id": "VPTrEfHoSBDd"
   },
   "outputs": [],
   "source": [
    "learning_rate=0.005\n",
    "num_epochs=200\n",
    "minibatch_size=128"
   ]
  },
  {
   "cell_type": "markdown",
   "metadata": {
    "colab_type": "text",
    "id": "z6Hf9zFESBDq"
   },
   "source": [
    "### 본격적으로 시작 - Data 로드 하기"
   ]
  },
  {
   "cell_type": "code",
   "execution_count": null,
   "metadata": {
    "colab": {
     "autoexec": {
      "startup": false,
      "wait_interval": 0
     },
     "base_uri": "https://localhost:8080/",
     "height": 123
    },
    "colab_type": "code",
    "executionInfo": {
     "elapsed": 4401,
     "status": "ok",
     "timestamp": 1529480623217,
     "user": {
      "displayName": "Seung-Chan Kim",
      "photoUrl": "//lh6.googleusercontent.com/-GfSlgMh8OAM/AAAAAAAAAAI/AAAAAAAAAU8/pF51x30wES8/s50-c-k-no/photo.jpg",
      "userId": "103475295474044689411"
     },
     "user_tz": -540
    },
    "id": "l_nGzUfQSBDr",
    "outputId": "91864c40-1ca3-4bfb-c237-1ca831e0f83e"
   },
   "outputs": [],
   "source": [
    "X_train, Y_train_orig, X_test, Y_test_orig = \\\n",
    "    load_dataset(folder=folder1, nclasses=nclasses)"
   ]
  },
  {
   "cell_type": "code",
   "execution_count": null,
   "metadata": {},
   "outputs": [],
   "source": [
    "print(X_train.shape)\n",
    "print(Y_train_orig.shape)"
   ]
  },
  {
   "cell_type": "markdown",
   "metadata": {
    "colab_type": "text",
    "id": "0ViajHH6SBDv"
   },
   "source": [
    "일반 숫자를 one-hot encoding으로 !"
   ]
  },
  {
   "cell_type": "code",
   "execution_count": null,
   "metadata": {
    "colab": {
     "autoexec": {
      "startup": false,
      "wait_interval": 0
     }
    },
    "colab_type": "code",
    "id": "_h-yVgwDSBDx"
   },
   "outputs": [],
   "source": [
    "Y_train = convert_to_one_hot(Y_train_orig, nclasses).T\n",
    "Y_test = convert_to_one_hot(Y_test_orig, nclasses).T"
   ]
  },
  {
   "cell_type": "markdown",
   "metadata": {
    "colab_type": "text",
    "id": "2iR_mhqqSBD0"
   },
   "source": [
    "Data shape 살펴보기. Dimension을 살펴보세요"
   ]
  },
  {
   "cell_type": "code",
   "execution_count": null,
   "metadata": {
    "colab": {
     "autoexec": {
      "startup": false,
      "wait_interval": 0
     },
     "base_uri": "https://localhost:8080/",
     "height": 123
    },
    "colab_type": "code",
    "executionInfo": {
     "elapsed": 547,
     "status": "ok",
     "timestamp": 1529480624464,
     "user": {
      "displayName": "Seung-Chan Kim",
      "photoUrl": "//lh6.googleusercontent.com/-GfSlgMh8OAM/AAAAAAAAAAI/AAAAAAAAAU8/pF51x30wES8/s50-c-k-no/photo.jpg",
      "userId": "103475295474044689411"
     },
     "user_tz": -540
    },
    "id": "WrdPuSsKSBD0",
    "outputId": "cf844f3a-5de8-41d1-df7f-888d1139b421"
   },
   "outputs": [],
   "source": [
    "print (\"number of training examples = \" + str(X_train.shape[0]))\n",
    "print (\"number of test examples = \" + str(X_test.shape[0]))\n",
    "print (\"X_train shape: \" + str(X_train.shape))\n",
    "print (\"Y_train shape: \" + str(Y_train.shape))\n",
    "print (\"X_test shape: \" + str(X_test.shape))\n",
    "print (\"Y_test shape: \" + str(Y_test.shape))"
   ]
  },
  {
   "cell_type": "code",
   "execution_count": null,
   "metadata": {
    "colab": {
     "autoexec": {
      "startup": false,
      "wait_interval": 0
     },
     "base_uri": "https://localhost:8080/",
     "height": 298
    },
    "colab_type": "code",
    "executionInfo": {
     "elapsed": 622,
     "status": "ok",
     "timestamp": 1529480625155,
     "user": {
      "displayName": "Seung-Chan Kim",
      "photoUrl": "//lh6.googleusercontent.com/-GfSlgMh8OAM/AAAAAAAAAAI/AAAAAAAAAU8/pF51x30wES8/s50-c-k-no/photo.jpg",
      "userId": "103475295474044689411"
     },
     "user_tz": -540
    },
    "id": "-lCWzulJSBD3",
    "outputId": "4ba4acb2-73dc-4e10-c2d9-8b47f68ce458"
   },
   "outputs": [],
   "source": [
    "# display images\n",
    "idx1 = 20\n",
    "x1 = X_train[idx1]\n",
    "y1 = Y_train[idx1]\n",
    "\n",
    "plt.figure()\n",
    "plt.imshow(x1)\n",
    "plt.title('idx #{}-- class #{}'.format(idx1, y1))"
   ]
  },
  {
   "cell_type": "markdown",
   "metadata": {
    "colab_type": "text",
    "id": "Ur_YkWOyZSqb"
   },
   "source": [
    "위의 idx1 값을 바꾸어보며 테스트해보세요.  **마찬가지로 본인들의 사진이 나오도록 최종 idx1 값을 설정해보세요**"
   ]
  },
  {
   "cell_type": "markdown",
   "metadata": {
    "colab_type": "text",
    "id": "56mesaIBSBD7"
   },
   "source": [
    "### Placeholders 만들기"
   ]
  },
  {
   "cell_type": "code",
   "execution_count": null,
   "metadata": {
    "colab": {
     "autoexec": {
      "startup": false,
      "wait_interval": 0
     }
    },
    "colab_type": "code",
    "id": "wv5V4ailSBD7"
   },
   "outputs": [],
   "source": [
    "def create_placeholders(n_H0, n_W0, n_C0, n_y):\n",
    "    X = tf.placeholder(tf.float32, [None, n_H0, n_W0, n_C0])\n",
    "    Y = tf.placeholder(tf.float32, [None, n_y])\n",
    "\n",
    "    return X, Y"
   ]
  },
  {
   "cell_type": "markdown",
   "metadata": {
    "colab_type": "text",
    "id": "fiieqs5xSBEA"
   },
   "source": [
    "### Parameter 초기화 하기\n",
    "* W1, W2의 크기, 갯수를 원하는 대로 변경하세요. \n",
    "* W3, W4.. 등이 필요한 경우 자유롭게 넣어보세요"
   ]
  },
  {
   "cell_type": "code",
   "execution_count": null,
   "metadata": {
    "colab": {
     "autoexec": {
      "startup": false,
      "wait_interval": 0
     }
    },
    "colab_type": "code",
    "id": "ddY2WylXSBEA"
   },
   "outputs": [],
   "source": [
    "def initialize_parameters():\n",
    "    W1 = tf.get_variable(\"W1\", [4, 4, 3, 16], initializer=tf.contrib.layers.xavier_initializer(seed=0))\n",
    "    W2 = tf.get_variable(\"W2\", [2, 2, 16, 32], initializer=tf.contrib.layers.xavier_initializer(seed=0))\n",
    "    #W3 = ...  #필요하면 추가해보세요\n",
    "    parameters = {\"W1\": W1,\n",
    "                  \"W2\": W2}\n",
    "\n",
    "    return parameters"
   ]
  },
  {
   "cell_type": "markdown",
   "metadata": {
    "colab_type": "text",
    "id": "R17CDUvoSBED"
   },
   "source": [
    "### Forward propagation\n",
    "* 아래는 다음과 같은 ConvNet을 구현한 것입니다. 자유롭게 stride, pooling의 ksize 변경해보세요.\n",
    "```\n",
    "CONV2D -> RELU -> MAXPOOL -> CONV2D -> RELU -> MAXPOOL -> FLATTEN -> FC\n",
    "```\n",
    "* CONV2D -> RELU -> MAXPOOL 을 하나의 덩어리로 생각하면 좋습니다\n",
    "\n"
   ]
  },
  {
   "cell_type": "code",
   "execution_count": null,
   "metadata": {
    "colab": {
     "autoexec": {
      "startup": false,
      "wait_interval": 0
     }
    },
    "colab_type": "code",
    "id": "Sse_Z39GSBEE"
   },
   "outputs": [],
   "source": [
    "def forward_propagation(X, parameters):\n",
    "    W1 = parameters['W1']\n",
    "    W2 = parameters['W2']\n",
    "    \n",
    "    # CONV2D: stride of 1, padding 'SAME'\n",
    "    Z1 = tf.nn.conv2d(X, W1, strides=[1, 1, 1, 1], padding='SAME')\n",
    "    # RELU\n",
    "    A1 = tf.nn.relu(Z1)\n",
    "    # MAXPOOL: window 8x8, sride 8, padding 'SAME'\n",
    "    P1 = tf.nn.max_pool(A1, ksize=[1, 8, 8, 1], strides=[1, 8, 8, 1], padding='SAME')\n",
    "\n",
    "    # CONV2D: filters W2, stride 1, padding 'SAME'\n",
    "    Z2 = tf.nn.conv2d(P1, W2, strides=[1, 1, 1, 1], padding='SAME')\n",
    "    # RELU\n",
    "    A2 = tf.nn.relu(Z2)\n",
    "    # MAXPOOL: window 4x4, stride 4, padding 'SAME'\n",
    "    P2 = tf.nn.max_pool(A2, ksize=[1, 4, 4, 1], strides=[1, 4, 4, 1], padding='SAME')\n",
    "\n",
    "    # FLATTEN\n",
    "    P2 = tf.contrib.layers.flatten(P2)\n",
    "    # FULLY-CONNECTED without non-linear activation function (not not call softmax).\n",
    "    # 6 neurons in output layer. Hint: one of the arguments should be \"activation_fn=None\"\n",
    "    Z3 = tf.contrib.layers.fully_connected(P2, 6, activation_fn=None)\n",
    "    Y_hat = Z3\n",
    "   \n",
    "    return Y_hat"
   ]
  },
  {
   "cell_type": "markdown",
   "metadata": {
    "colab_type": "text",
    "id": "37esEN2mSBEI"
   },
   "source": [
    "### Cost 계산하기"
   ]
  },
  {
   "cell_type": "code",
   "execution_count": null,
   "metadata": {
    "colab": {
     "autoexec": {
      "startup": false,
      "wait_interval": 0
     }
    },
    "colab_type": "code",
    "id": "OYiyN5sJSBEI"
   },
   "outputs": [],
   "source": [
    "def compute_cost(Y_hat, Y):\n",
    "    cost = tf.reduce_mean(tf.nn.softmax_cross_entropy_with_logits(logits = Y_hat, labels = Y))\n",
    "    #cost = tf.reduce_mean(tf.nn.softmax_cross_entropy_with_logits_v2(logits=Y_hat, labels=Y))\n",
    "    return cost"
   ]
  },
  {
   "cell_type": "markdown",
   "metadata": {
    "colab_type": "text",
    "id": "fdwEcLqXSBEK"
   },
   "source": [
    "### Model \n",
    "지금까지 함수로 만들었던 기능들을 불러 만들어 네트워크를 구성합니다"
   ]
  },
  {
   "cell_type": "code",
   "execution_count": null,
   "metadata": {
    "colab": {
     "autoexec": {
      "startup": false,
      "wait_interval": 0
     }
    },
    "colab_type": "code",
    "id": "ldyyDuouSBEL"
   },
   "outputs": [],
   "source": [
    "(m, n_H0, n_W0, n_C0) = X_train.shape\n",
    "n_y = Y_train.shape[1]"
   ]
  },
  {
   "cell_type": "code",
   "execution_count": null,
   "metadata": {
    "colab": {
     "autoexec": {
      "startup": false,
      "wait_interval": 0
     }
    },
    "colab_type": "code",
    "id": "Saxvje33SBEN"
   },
   "outputs": [],
   "source": [
    "ops.reset_default_graph()\n",
    "X, Y = create_placeholders(n_H0, n_W0, n_C0, n_y)\n",
    "parameters = initialize_parameters()\n",
    "Y_hat = forward_propagation(X, parameters)\n",
    "cost = compute_cost(Y_hat, Y)\n",
    "optimizer = tf.train.AdamOptimizer(learning_rate=learning_rate).minimize(cost)"
   ]
  },
  {
   "cell_type": "markdown",
   "metadata": {
    "colab_type": "text",
    "id": "vCUmblTBSBEP"
   },
   "source": [
    "### Start the session to compute the tensorflow graph"
   ]
  },
  {
   "cell_type": "code",
   "execution_count": null,
   "metadata": {
    "colab": {
     "autoexec": {
      "startup": false,
      "wait_interval": 0
     }
    },
    "colab_type": "code",
    "id": "6Dj1iWyzSBEP"
   },
   "outputs": [],
   "source": [
    "print_cost = True"
   ]
  },
  {
   "cell_type": "code",
   "execution_count": null,
   "metadata": {
    "colab": {
     "autoexec": {
      "startup": false,
      "wait_interval": 0
     }
    },
    "colab_type": "code",
    "id": "GQj2vJbjBMu6"
   },
   "outputs": [],
   "source": [
    "vcosts = []  # cost를 저장할 빈 list\n",
    "vtime = [] # 연산시간을 기록할 빈 list"
   ]
  },
  {
   "cell_type": "code",
   "execution_count": null,
   "metadata": {
    "colab": {
     "autoexec": {
      "startup": false,
      "wait_interval": 0
     }
    },
    "colab_type": "code",
    "id": "_zH8oCETIOk4"
   },
   "outputs": [],
   "source": [
    "# Reset the graph\n",
    "#tf.reset_default_graph()\n",
    "\n",
    "# Start interactive session\n",
    "sess = tf.InteractiveSession()"
   ]
  },
  {
   "cell_type": "code",
   "execution_count": null,
   "metadata": {
    "colab": {
     "autoexec": {
      "startup": false,
      "wait_interval": 0
     },
     "base_uri": "https://localhost:8080/",
     "height": 194
    },
    "colab_type": "code",
    "executionInfo": {
     "elapsed": 589598,
     "status": "ok",
     "timestamp": 1529481221818,
     "user": {
      "displayName": "Seung-Chan Kim",
      "photoUrl": "//lh6.googleusercontent.com/-GfSlgMh8OAM/AAAAAAAAAAI/AAAAAAAAAU8/pF51x30wES8/s50-c-k-no/photo.jpg",
      "userId": "103475295474044689411"
     },
     "user_tz": -540
    },
    "id": "CZy0dnd5SBEV",
    "outputId": "a3395b5c-8531-43ed-a031-a2fdcd8f83b0"
   },
   "outputs": [],
   "source": [
    "seed = 0\n",
    "sess.run(tf.global_variables_initializer())\n",
    "# Do the training loop\n",
    "for epoch in range(num_epochs):\n",
    "\n",
    "    minibatch_cost = 0.\n",
    "    num_minibatches = int(m / minibatch_size)  # number of minibatches of size minibatch_size in the train set\n",
    "    seed = seed + 1\n",
    "    minibatches = random_mini_batches(X_train, Y_train, minibatch_size, seed=seed)\n",
    "\n",
    "    for minibatch in minibatches:\n",
    "        # Select a minibatch\n",
    "        (minibatch_X, minibatch_Y) = minibatch\n",
    "        # IMPORTANT: The line that runs the graph on a minibatch.\n",
    "        # Run the session to execute the optimizer and the cost, the feedict should contain a minibatch for (X,Y).\n",
    "\n",
    "        #_, temp_cost = sess.run([optimizer, cost], feed_dict={X: minibatch_X, Y: minibatch_Y})\n",
    "        t0 = time.time()\n",
    "        sess.run(optimizer, feed_dict={X: minibatch_X, Y: minibatch_Y})\n",
    "        t_elapsed = time.time() - t0\n",
    "        vtime.append(t_elapsed) # 시간을 측정하고 이를 list에 저장함 (append)\n",
    "\n",
    "        temp_cost = sess.run(cost, feed_dict={X: minibatch_X, Y: minibatch_Y})\n",
    "\n",
    "        minibatch_cost += temp_cost / num_minibatches\n",
    "\n",
    "    # Print the cost every epoch\n",
    "    if print_cost == True and epoch % 5 == 0:\n",
    "        print(\"Cost after epoch {}\\t{}\".format(epoch, minibatch_cost))\n",
    "\n",
    "    vcosts.append(minibatch_cost)"
   ]
  },
  {
   "cell_type": "code",
   "execution_count": null,
   "metadata": {
    "colab": {
     "autoexec": {
      "startup": false,
      "wait_interval": 0
     },
     "base_uri": "https://localhost:8080/",
     "height": 70
    },
    "colab_type": "code",
    "executionInfo": {
     "elapsed": 7443,
     "status": "ok",
     "timestamp": 1529481229287,
     "user": {
      "displayName": "Seung-Chan Kim",
      "photoUrl": "//lh6.googleusercontent.com/-GfSlgMh8OAM/AAAAAAAAAAI/AAAAAAAAAU8/pF51x30wES8/s50-c-k-no/photo.jpg",
      "userId": "103475295474044689411"
     },
     "user_tz": -540
    },
    "id": "fEB2IA_NIOk8",
    "outputId": "9e2c8b66-7071-4bcd-f31a-1ff34d867654"
   },
   "outputs": [],
   "source": [
    "correct_prediction = tf.equal(tf.argmax(Y_hat, 1), tf.argmax(Y, 1))\n",
    "accuracy = tf.reduce_mean(tf.cast(correct_prediction, \"float\"))\n",
    "\n",
    "train_accuracy = accuracy.eval({X: X_train[:500], Y: Y_train[:500]})\n",
    "test_accuracy = accuracy.eval({X: X_test[:500], Y: Y_test[:500]})\n",
    "print(\"Train Accuracy:\", train_accuracy)\n",
    "print(\"Test Accuracy:\", test_accuracy)\n",
    "\n",
    "print(\"Mean time to train for each batch: {:.3f} sec / batch size : {}\".format(np.mean(vtime), minibatch_size))\n"
   ]
  },
  {
   "cell_type": "markdown",
   "metadata": {
    "colab_type": "text",
    "id": "mmp4AerJIOlA"
   },
   "source": [
    "학습된 모델로 예측해보기 (correct predictions)\n",
    "* 10개 테스트 해보기 --> 자유롭게 원하는 대로 변경하여 테스트 해보세요"
   ]
  },
  {
   "cell_type": "code",
   "execution_count": null,
   "metadata": {},
   "outputs": [],
   "source": [
    "ntest = -1\n",
    "if ntest==-1:\n",
    "    ntest = X_test.shape[0]\n",
    "print('number of test images: {}'.format(ntest))"
   ]
  },
  {
   "cell_type": "code",
   "execution_count": null,
   "metadata": {
    "colab": {
     "autoexec": {
      "startup": false,
      "wait_interval": 0
     },
     "base_uri": "https://localhost:8080/",
     "height": 2823
    },
    "colab_type": "code",
    "executionInfo": {
     "elapsed": 2527,
     "status": "ok",
     "timestamp": 1529481233647,
     "user": {
      "displayName": "Seung-Chan Kim",
      "photoUrl": "//lh6.googleusercontent.com/-GfSlgMh8OAM/AAAAAAAAAAI/AAAAAAAAAU8/pF51x30wES8/s50-c-k-no/photo.jpg",
      "userId": "103475295474044689411"
     },
     "user_tz": -540
    },
    "id": "u4XZPlfWIOlC",
    "outputId": "67018f09-af20-4777-c42c-b9a4a1c1629f"
   },
   "outputs": [],
   "source": [
    "for j in range(0,ntest):\n",
    "    # Get one and predict\n",
    "    if ntest == X_test.shape[0]:\n",
    "        r = j\n",
    "    else:\n",
    "        r = random.randint(0, X_test.shape[0] - 1)\n",
    "    #print('Picked {} / {}'.format(r, X_test.shape[0]))\n",
    "    \n",
    "    v1 = sess.run(tf.argmax(Y_test[r:r+1], 1))\n",
    "    t0 = time.time()\n",
    "    #v2 = sess.run(tf.argmax(Y_hat, 1), feed_dict={X: X_test[r:r+1]})\n",
    "    v2raw = sess.run(Y_hat, feed_dict={X: X_test[r:r+1]})\n",
    "    v2 = np.argmax(v2raw)\n",
    "    #print(v2raw, '----', v2)    \n",
    "    t_elapsed = time.time() - t0\n",
    "    bok = (v1 == v2)\n",
    "    str1 = '#{}, Label: {}, Pred: {}, {}, Time : {:.3f} sec'.format(r, v1, v2,bok, t_elapsed)\n",
    "    if ntest < X_test.shape[0]:\n",
    "        print(str1)\n",
    "    else:\n",
    "        if j % 100 ==0:\n",
    "            print(str1)\n",
    "    if not bok:\n",
    "        str2 = '#{}, Label: {}, Pred: {} --> {}\\n{}'.format(r, v1, v2, bok, v2raw)\n",
    "    else:\n",
    "        str2 = '#{}, Label: {}, Pred: {} --> {}'.format(r, v1, v2, bok)\n",
    "    #print(str2)\n",
    "    plt.figure()\n",
    "    plt.imshow(X_test[r])\n",
    "    \n",
    "    plt.title(str2)\n",
    "    \n",
    "    \n",
    "    if not bok:\n",
    "        filename_img = '{}/image_test_{}_fail.png'.format(directory_out, j)\n",
    "    else:\n",
    "        filename_img = '{}/image_test_{}.png'.format(directory_out, j)\n",
    "    plt.savefig(filename_img)\n",
    "    plt.close()\n",
    "\n"
   ]
  },
  {
   "cell_type": "markdown",
   "metadata": {},
   "source": [
    "분류가 잘된 예, 잘못된 예 각각 10가지 이상을 찾아서, 보고서에 제출하세요"
   ]
  },
  {
   "cell_type": "markdown",
   "metadata": {
    "colab_type": "text",
    "id": "c4Wbg_cdSBEZ"
   },
   "source": [
    "###  Cost 그려보기"
   ]
  },
  {
   "cell_type": "code",
   "execution_count": null,
   "metadata": {
    "colab": {
     "autoexec": {
      "startup": false,
      "wait_interval": 0
     },
     "base_uri": "https://localhost:8080/",
     "height": 312
    },
    "colab_type": "code",
    "executionInfo": {
     "elapsed": 626,
     "status": "ok",
     "timestamp": 1529481234316,
     "user": {
      "displayName": "Seung-Chan Kim",
      "photoUrl": "//lh6.googleusercontent.com/-GfSlgMh8OAM/AAAAAAAAAAI/AAAAAAAAAU8/pF51x30wES8/s50-c-k-no/photo.jpg",
      "userId": "103475295474044689411"
     },
     "user_tz": -540
    },
    "id": "E4_36vCdSBEZ",
    "outputId": "c49a96b5-b100-4006-8ee5-83b559c0373c"
   },
   "outputs": [],
   "source": [
    "plt.figure()\n",
    "plt.plot(np.squeeze(vcosts))\n",
    "plt.ylabel('cost')\n",
    "plt.xlabel('iterations (per tens)')\n",
    "plt.title(\"Learning rate =\" + str(learning_rate))"
   ]
  },
  {
   "cell_type": "markdown",
   "metadata": {
    "colab_type": "text",
    "id": "9jnOtw9YMR6Y"
   },
   "source": [
    "Cost 의 초반부 확대해서 그려보기"
   ]
  },
  {
   "cell_type": "code",
   "execution_count": null,
   "metadata": {
    "colab": {
     "autoexec": {
      "startup": false,
      "wait_interval": 0
     },
     "base_uri": "https://localhost:8080/",
     "height": 294
    },
    "colab_type": "code",
    "executionInfo": {
     "elapsed": 531,
     "status": "ok",
     "timestamp": 1529481235607,
     "user": {
      "displayName": "Seung-Chan Kim",
      "photoUrl": "//lh6.googleusercontent.com/-GfSlgMh8OAM/AAAAAAAAAAI/AAAAAAAAAU8/pF51x30wES8/s50-c-k-no/photo.jpg",
      "userId": "103475295474044689411"
     },
     "user_tz": -540
    },
    "id": "Isk3UZc_MPNn",
    "outputId": "b68632b3-8107-4198-c36c-6f882fe3bf16"
   },
   "outputs": [],
   "source": [
    "plt.figure()\n",
    "plt.plot(np.squeeze(vcosts[:20]))\n",
    "plt.ylabel('cost')\n",
    "plt.xlabel('iterations (per tens)')\n",
    "plt.title(\"Learning rate =\" + str(learning_rate))\n",
    "plt.show()"
   ]
  },
  {
   "cell_type": "code",
   "execution_count": null,
   "metadata": {},
   "outputs": [],
   "source": [
    "dir2test = './test/'\n",
    "#dir2test = './test_3/'\n",
    "\n",
    "fnlist1 = get_file_lists(dir2test, ftypes = ('jpg', 'JPG'))\n",
    "print(fnlist1)"
   ]
  },
  {
   "cell_type": "code",
   "execution_count": null,
   "metadata": {
    "scrolled": true
   },
   "outputs": [],
   "source": [
    "for fntest1 in fnlist1:\n",
    "    test1 = load_image(fntest1)\n",
    "    img1c = centered_crop(test1, output_side_length=128)\n",
    "    s1 = img1c.shape\n",
    "    img1c2 = img1c.reshape(-1,s1[0], s1[1], s1[2])\n",
    "    print(np.shape(img1c))\n",
    "    print(np.shape(img1c2))\n",
    "\n",
    "    t0 = time.time()\n",
    "    #v2 = sess.run(tf.argmax(Y_hat, 1), feed_dict={X: img1c2})\n",
    "    v2 = sess.run(Y_hat, feed_dict={X: img1c2})\n",
    "    v22 = np.argmax(v2)\n",
    "    t_elapsed = time.time() - t0\n",
    "\n",
    "    str1 = 'Pred: {}, {:.3f} sec'.format(v22, t_elapsed)\n",
    "    str2 = 'Pred: {}, {:.3f} sec\\n{}'.format( v22, t_elapsed, v2[0])\n",
    "    print(str2)\n",
    "\n",
    "    plt.figure()\n",
    "    plt.imshow(img1c)\n",
    "    plt.title(str2)"
   ]
  },
  {
   "cell_type": "code",
   "execution_count": null,
   "metadata": {
    "colab": {
     "autoexec": {
      "startup": false,
      "wait_interval": 0
     }
    },
    "colab_type": "code",
    "id": "zbmvVyCdMWYD"
   },
   "outputs": [],
   "source": [
    "#sess.close()"
   ]
  }
 ],
 "metadata": {
  "colab": {
   "collapsed_sections": [],
   "default_view": {},
   "name": "Final_Project_717005_2018_Spring_Student_v2.ipynb",
   "provenance": [
    {
     "file_id": "12cVjVybgI5q2A-C_imvH8LVQdHWTFkbE",
     "timestamp": 1529413674889
    }
   ],
   "version": "0.3.2",
   "views": {}
  },
  "kernelspec": {
   "display_name": "Python 3",
   "language": "python",
   "name": "python3"
  },
  "language_info": {
   "codemirror_mode": {
    "name": "ipython",
    "version": 3
   },
   "file_extension": ".py",
   "mimetype": "text/x-python",
   "name": "python",
   "nbconvert_exporter": "python",
   "pygments_lexer": "ipython3",
   "version": "3.6.6"
  }
 },
 "nbformat": 4,
 "nbformat_minor": 1
}
